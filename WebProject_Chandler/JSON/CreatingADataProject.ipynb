{
 "cells": [
  {
   "cell_type": "markdown",
   "metadata": {},
   "source": [
    "## Creating a Web Data Project with Jupyter Notebooks\n",
    "******\n",
    "###### 1. Read in json file(s) resulting from your work with requests/selenium and beautifulsoup"
   ]
  },
  {
   "cell_type": "code",
   "execution_count": 1,
   "metadata": {
    "collapsed": false
   },
   "outputs": [],
   "source": [
    "# Import necessary packages\n",
    "import matplotlib\n",
    "import numpy as np\n",
    "import matplotlib.pyplot as plt\n",
    "%matplotlib inline\n",
    "import pandas as pd\n",
    "\n",
    "# Read in json files and create dataframes\n",
    "filename = '2017-02-27.Sweetwater.json'\n",
    "data = pd.read_json(filename)\n",
    "filename2 = '2017-03-01.Sweetwater.json'\n",
    "data2 = pd.read_json(filename2)"
   ]
  },
  {
   "cell_type": "markdown",
   "metadata": {},
   "source": [
    "###### 2. Clean the data column by column\n",
    "- Ensure that addresses (or other text data) are consistent \n",
    "- Eliminate string characters from numeric values \n",
    "- Exclude redundant data as appropriate"
   ]
  },
  {
   "cell_type": "code",
   "execution_count": 2,
   "metadata": {
    "collapsed": false
   },
   "outputs": [],
   "source": [
    "# Clean up location data to ensure consistency\n",
    "data['Location'].replace({'2 Monitors and sub': 'Not Included', \n",
    "                          'DFW' : 'Dallas - Fortworth, TX',\n",
    "                          '84047 Midvale Utah' : 'Midvale, Utah 84047',\n",
    "                          '08085 swedesboro NJ' : 'Swedesboro, NF 08085'\n",
    "                         }, inplace=True)\n",
    "\n",
    "data2['Location'].replace({'2 Monitors and sub': 'Not Included', \n",
    "                          'DFW' : 'Dallas - Fortworth, TX',\n",
    "                          '84047 Midvale Utah' : 'Midvale, Utah 84047',\n",
    "                          '08085 swedesboro NJ' : 'Swedesboro, NF 08085'\n",
    "                         }, inplace=True)"
   ]
  },
  {
   "cell_type": "code",
   "execution_count": 3,
   "metadata": {
    "collapsed": false
   },
   "outputs": [],
   "source": [
    "#set(data.Location)\n",
    "#set(data2.Location)"
   ]
  },
  {
   "cell_type": "code",
   "execution_count": 4,
   "metadata": {
    "collapsed": false
   },
   "outputs": [],
   "source": [
    "# Eliminate string characters from numeric data\n",
    "data['Price'] = data['Price'].str.replace('NEGOTIATE','.555')\n",
    "data['Price'] = data['Price'].str.replace('Trade','.666')\n",
    "data['Price'] = data['Price'].str.replace('SOLD','.777')\n",
    "data['Price'] = data['Price'].str.replace('You','.111')\n",
    "data['Price'] = data['Price'].str.replace('$','')\n",
    "data['Price'] = data['Price'].str.replace('\\xa0','')\n",
    "data['Price'] = data['Price'].str.replace('.U.S','')\n",
    "data['Price'] = data['Price'].str.replace(',','')\n",
    "data['Price'] = data['Price'].str.split().str[0]\n",
    "data['Price'] = data['Price'].str.split('+').str[0]\n",
    "data['Price'] = data['Price'].astype(float)\n",
    "\n",
    "data2['Price'] = data2['Price'].str.replace('NEGOTIATE','.555')\n",
    "data2['Price'] = data2['Price'].str.replace('Trade','.666')\n",
    "data2['Price'] = data2['Price'].str.replace('SOLD','.777')\n",
    "data2['Price'] = data2['Price'].str.replace('You','.111')\n",
    "data2['Price'] = data2['Price'].str.replace('$','')\n",
    "data2['Price'] = data2['Price'].str.replace('\\xa0','')\n",
    "data2['Price'] = data2['Price'].str.replace('.U.S','')\n",
    "data2['Price'] = data2['Price'].str.replace(',','')\n",
    "data2['Price'] = data2['Price'].str.split().str[0]\n",
    "data2['Price'] = data2['Price'].str.split('+').str[0]\n",
    "data2['Price'] = data2['Price'].astype(float)"
   ]
  },
  {
   "cell_type": "code",
   "execution_count": 5,
   "metadata": {
    "collapsed": false
   },
   "outputs": [],
   "source": [
    "#set(data.Price)\n",
    "#set(data2.Price)"
   ]
  },
  {
   "cell_type": "code",
   "execution_count": 6,
   "metadata": {
    "collapsed": false
   },
   "outputs": [],
   "source": [
    "# Exclude redundant rows\n",
    "NoDupsData = data.drop_duplicates()\n",
    "NoDupsData2 = data2.drop_duplicates()"
   ]
  },
  {
   "cell_type": "markdown",
   "metadata": {},
   "source": [
    "###### 3. Merge dataframes from separate json files as appropriate\n",
    "- Find the intersection of two (or more) sets\n",
    "- Compare the intersection with the newer set to find 'New Products'  \n",
    "    - When found, add the starting date\n",
    "- Compare the intersection with the older set to find 'Closed Products'  \n",
    "    - When found, add the closing date\n",
    "    - Compare closing date with starting date to find days on market      "
   ]
  },
  {
   "cell_type": "code",
   "execution_count": 7,
   "metadata": {
    "collapsed": false
   },
   "outputs": [],
   "source": [
    "# Create the inner merge of the two dataframes\n",
    "dataInnerMerge = pd.merge(NoDupsData, NoDupsData2, \\\n",
    "                          on=['ID','Location','Title','Price'],\\\n",
    "                          how='inner')"
   ]
  },
  {
   "cell_type": "code",
   "execution_count": 8,
   "metadata": {
    "collapsed": false
   },
   "outputs": [
    {
     "name": "stderr",
     "output_type": "stream",
     "text": [
      "/Users/ChandlerCapps/anaconda/lib/python3.5/site-packages/ipykernel/__main__.py:2: SettingWithCopyWarning: \n",
      "A value is trying to be set on a copy of a slice from a DataFrame.\n",
      "Try using .loc[row_indexer,col_indexer] = value instead\n",
      "\n",
      "See the caveats in the documentation: http://pandas.pydata.org/pandas-docs/stable/indexing.html#indexing-view-versus-copy\n",
      "  from ipykernel import kernelapp as app\n"
     ]
    }
   ],
   "source": [
    "# Determine the set of 'new products'\n",
    "NoDupsData2['key1'] = 1\n",
    "dataInnerMerge['key2'] = 1\n",
    "newProducts = pd.merge(NoDupsData2, dataInnerMerge, \\\n",
    "                      on=['ID', 'Title','Location','Price'], \\\n",
    "                      how = 'left')\n",
    "\n",
    "# Create the associated dataframe\n",
    "newProducts = newProducts[newProducts.key2 != newProducts.key1]\n",
    "\n",
    "# Add the starting date in the dataframe in which the product is first shown"
   ]
  },
  {
   "cell_type": "code",
   "execution_count": 9,
   "metadata": {
    "collapsed": false
   },
   "outputs": [
    {
     "name": "stderr",
     "output_type": "stream",
     "text": [
      "/Users/ChandlerCapps/anaconda/lib/python3.5/site-packages/ipykernel/__main__.py:2: SettingWithCopyWarning: \n",
      "A value is trying to be set on a copy of a slice from a DataFrame.\n",
      "Try using .loc[row_indexer,col_indexer] = value instead\n",
      "\n",
      "See the caveats in the documentation: http://pandas.pydata.org/pandas-docs/stable/indexing.html#indexing-view-versus-copy\n",
      "  from ipykernel import kernelapp as app\n"
     ]
    }
   ],
   "source": [
    "# Determine the set of 'closed products'\n",
    "NoDupsData['key1'] = 1\n",
    "closedProducts = pd.merge(NoDupsData, dataInnerMerge, \\\n",
    "                      on=['ID', 'Title','Location','Price'], \\\n",
    "                      how = 'left')\n",
    "\n",
    "# Create the associated dataframe\n",
    "closedProducts = closedProducts[closedProducts.key2 != closedProducts.key1]\n",
    "\n",
    "# Add the closing date in the dataframe in which the product is last shown\n",
    "\n",
    "\n",
    "# Find days on market by comparing the starting date with the closing date"
   ]
  },
  {
   "cell_type": "markdown",
   "metadata": {},
   "source": [
    "###### 4. Create visualizations\n",
    "- Histogram of Prices\n",
    "- Histogram of Days on Market\n",
    "- Scatter Diagram of Prices vs Days on Market\n",
    "- Pie Chart of New, Like New, Used"
   ]
  },
  {
   "cell_type": "code",
   "execution_count": 10,
   "metadata": {
    "collapsed": false
   },
   "outputs": [
    {
     "data": {
      "image/png": "[encoded data removed]",
      "text/plain": [
       "<matplotlib.figure.Figure at 0x112d1bf98>"
      ]
     },
     "metadata": {},
     "output_type": "display_data"
    },
    {
     "data": {
      "image/png": "[encoded data removed]",
      "text/plain": [
       "<matplotlib.figure.Figure at 0x112d1be10>"
      ]
     },
     "metadata": {},
     "output_type": "display_data"
    },
    {
     "data": {
      "image/png": "[encoded data removed]",
      "text/plain": [
       "<matplotlib.figure.Figure at 0x112d4bb00>"
      ]
     },
     "metadata": {},
     "output_type": "display_data"
    },
    {
     "data": {
      "image/png": "[encoded data removed]",
      "text/plain": [
       "<matplotlib.figure.Figure at 0x11598b588>"
      ]
     },
     "metadata": {},
     "output_type": "display_data"
    }
   ],
   "source": [
    "# Create a histogram of Prices\n",
    "goodPrices = newProducts.Price[newProducts['Price'] > 1.0]\n",
    "goodPrices = goodPrices[goodPrices < 1500.0]\n",
    "plt.hist(goodPrices)\n",
    "plt.title(\"Product Prices\")\n",
    "plt.xlabel(\"Price\")\n",
    "plt.ylabel(\"Frequency\")\n",
    "plt.show()\n",
    "\n",
    "#Temporary Data for Days on Market ... for Scatter Plot Example\n",
    "scatterData = {'Price': goodPrices,\\\n",
    "               'daysOnMarket' : \\\n",
    "               np.random.randint(1,30,size=len(goodPrices))}\n",
    "sD = pd.DataFrame(scatterData)\n",
    "\n",
    "# Create a histogram of Days on Market\n",
    "plt.hist(sD.daysOnMarket)\n",
    "plt.title(\"Days On Market\")\n",
    "plt.xlabel(\"Days\")\n",
    "plt.ylabel(\"Frequency\")\n",
    "plt.show()\n",
    "\n",
    "# Create a Scatter Diagram of Prices vs Days on Market\n",
    "fig = plt.figure()\n",
    "ax = fig.add_subplot(111)\n",
    "x = sD.Price\n",
    "y = sD.daysOnMarket\n",
    "ax.scatter(x,y,color='blue')\n",
    "ax.set_ylim([0,30])\n",
    "ax.set_xlim([0,1600])\n",
    "\n",
    "plt.title(\"Days On Market vs Price\")\n",
    "plt.xlabel(\"Price\")\n",
    "plt.ylabel(\"Days On Market\")\n",
    "plt.show()\n",
    "\n",
    "# Create a Pie Chart of New, Like New, and Used products\n",
    "colors = [\"#E13F29\", \"#D69A80\", \"#D63B59\"]\n",
    "# Create a pie chart\n",
    "plt.pie(\n",
    "    [newProducts.Condition[newProducts.Condition == 'like new'].count(),\\\n",
    "     newProducts.Condition[newProducts.Condition == 'new'].count(), \\\n",
    "     newProducts.Condition[newProducts.Condition == 'used'].count()],\n",
    "    labels= ['like_new','new','used'],\n",
    "    shadow=True,\n",
    "    # with colors\n",
    "    colors=colors,\n",
    "    # with one slide exploded out\n",
    "    explode=(0.1, 0, 0),\n",
    "    # with the start angle at 90%\n",
    "    startangle=90,\n",
    "    # with the percent listed as a fraction\n",
    "    autopct='%1.1f%%',\n",
    "    )\n",
    "\n",
    "# View the plot drop above\n",
    "plt.axis('equal')\n",
    "\n",
    "# View the plot\n",
    "plt.tight_layout()\n",
    "plt.show()\n",
    "\n"
   ]
  },
  {
   "cell_type": "markdown",
   "metadata": {},
   "source": [
    "###### 5. Trends from your data  \n",
    "- Search for specific brands and offer counts for each\n",
    "- Search for product types and offer counts for each\n",
    "- For each of the above (and other) give counts for day over day or week over week"
   ]
  },
  {
   "cell_type": "code",
   "execution_count": 11,
   "metadata": {
    "collapsed": false
   },
   "outputs": [
    {
     "data": {
      "image/png": "[encoded data removed]",
      "text/plain": [
       "<matplotlib.figure.Figure at 0x115f536d8>"
      ]
     },
     "metadata": {},
     "output_type": "display_data"
    },
    {
     "data": {
      "image/png": "[encoded data removed]",
      "text/plain": [
       "<matplotlib.figure.Figure at 0x115f41ac8>"
      ]
     },
     "metadata": {},
     "output_type": "display_data"
    }
   ],
   "source": [
    "# List the products representing specific brands of your choosing\n",
    "# for each date provided\n",
    "fenderData = NoDupsData[NoDupsData['Title'].str.contains('fender ')]\n",
    "yamahaData = NoDupsData[NoDupsData['Title'].str.contains('yamaha ')]\n",
    "gibsonData = NoDupsData[NoDupsData['Title'].str.contains('gibson ')]\n",
    "fenderData2 = NoDupsData2[NoDupsData2['Title'].str.contains('fender ')]\n",
    "yamahaData2 = NoDupsData2[NoDupsData2['Title'].str.contains('yamaha ')]\n",
    "gibsonData2 = NoDupsData2[NoDupsData2['Title'].str.contains('gibson ')]\n",
    "\n",
    "# Create a bar chart of products by brand (for the brands chosen)\n",
    "fenderCount = len(fenderData)\n",
    "yamahaCount = len(yamahaData)\n",
    "gibsonCount = len(gibsonData)\n",
    "fenderCount2 = len(fenderData2)\n",
    "yamahaCount2 = len(yamahaData2)\n",
    "gibsonCount2 = len(gibsonData2)\n",
    "\n",
    "objects = ('Fender','Fender2','', 'Yamaha', 'Yamaha2','', \\\n",
    "           'Gibson', 'Gibson2')\n",
    "colors = ('green','red','blue','green','red','blue','green','red')\n",
    "y_pos = np.arange(len(objects))\n",
    "performance = [fenderCount,fenderCount2,0,yamahaCount,yamahaCount2,\\\n",
    "               0,gibsonCount,gibsonCount2]\n",
    "fig = plt.figure(figsize=(15,7))\n",
    "plt.bar(y_pos, performance, align='center',alpha=0.5, color=colors)\n",
    "plt.xticks(y_pos, objects)\n",
    "plt.ylabel('Counts')\n",
    "plt.title('Brands')\n",
    " \n",
    "plt.show()\n",
    "\n",
    "# List the products of a specific type\n",
    "guitarData = NoDupsData[NoDupsData['Title'].str.contains('guitar ')]\n",
    "audioData = NoDupsData[NoDupsData['Title'].str.contains('audio ')]\n",
    "drumData = NoDupsData[NoDupsData['Title'].str.contains('drum ')]\n",
    "guitarData2 = NoDupsData2[NoDupsData2['Title'].str.contains('guitar ')]\n",
    "audioData2 = NoDupsData2[NoDupsData2['Title'].str.contains('audio ')]\n",
    "drumData2 = NoDupsData2[NoDupsData2['Title'].str.contains('drum ')]\n",
    "\n",
    "\n",
    "# Create a bar chart of products by specific type\n",
    "# for each date provided\n",
    "guitarCount = len(guitarData)\n",
    "audioCount = len(audioData)\n",
    "drumCount = len(drumData)\n",
    "guitarCount2 = len(guitarData2)\n",
    "audioCount2 = len(audioData2)\n",
    "drumCount2 = len(drumData2)\n",
    "\n",
    "objects = ('Guitar','Guitar2','', 'Audio','Audio2','', 'Drum','Drum2')\n",
    "y_pos = np.arange(len(objects))\n",
    "performance = [guitarCount,guitarCount2,0,audioCount,audioCount2,\\\n",
    "               0,drumCount,drumCount2]\n",
    "colors = ('green','red','blue','green','red','blue','green','red') \n",
    "plt.bar(y_pos, performance, align='center', alpha=0.5, color=colors)\n",
    "plt.xticks(y_pos, objects)\n",
    "plt.ylabel('Counts')\n",
    "plt.title('Product Type')\n",
    " \n",
    "plt.show()"
   ]
  },
  {
   "cell_type": "code",
   "execution_count": 12,
   "metadata": {
    "collapsed": false
   },
   "outputs": [
    {
     "data": {
      "text/html": [
       "<div>\n",
       "<table border=\"1\" class=\"dataframe\">\n",
       "  <thead>\n",
       "    <tr style=\"text-align: right;\">\n",
       "      <th></th>\n",
       "      <th>Link</th>\n",
       "      <th>Title</th>\n",
       "    </tr>\n",
       "  </thead>\n",
       "  <tbody>\n",
       "    <tr>\n",
       "      <th>4</th>\n",
       "      <td>https://tradingpost.sweetwater.com/119157-like...</td>\n",
       "      <td>fender fender blues jr iii</td>\n",
       "    </tr>\n",
       "    <tr>\n",
       "      <th>36</th>\n",
       "      <td>https://tradingpost.sweetwater.com/119117-like...</td>\n",
       "      <td>fender authentic 59 precision bass</td>\n",
       "    </tr>\n",
       "    <tr>\n",
       "      <th>106</th>\n",
       "      <td>https://tradingpost.sweetwater.com/119097-used...</td>\n",
       "      <td>fender blues deluxe reissue</td>\n",
       "    </tr>\n",
       "    <tr>\n",
       "      <th>192</th>\n",
       "      <td>https://tradingpost.sweetwater.com/118992-used...</td>\n",
       "      <td>fender 65 twin reverb</td>\n",
       "    </tr>\n",
       "    <tr>\n",
       "      <th>206</th>\n",
       "      <td>https://tradingpost.sweetwater.com/118977-used...</td>\n",
       "      <td>fender american standard stratocaster 2012 can...</td>\n",
       "    </tr>\n",
       "    <tr>\n",
       "      <th>226</th>\n",
       "      <td>https://tradingpost.sweetwater.com/118949-like...</td>\n",
       "      <td>fender squier jazz bass squier</td>\n",
       "    </tr>\n",
       "    <tr>\n",
       "      <th>232</th>\n",
       "      <td>https://tradingpost.sweetwater.com/118927-used...</td>\n",
       "      <td>fender 1957 stratocaster</td>\n",
       "    </tr>\n",
       "    <tr>\n",
       "      <th>269</th>\n",
       "      <td>https://tradingpost.sweetwater.com/118883-used...</td>\n",
       "      <td>fender 1969 twin reverb  blackface mod</td>\n",
       "    </tr>\n",
       "    <tr>\n",
       "      <th>271</th>\n",
       "      <td>https://tradingpost.sweetwater.com/118881-used...</td>\n",
       "      <td>fender 1996 nokie edwards telecaster  prototype</td>\n",
       "    </tr>\n",
       "    <tr>\n",
       "      <th>273</th>\n",
       "      <td>https://tradingpost.sweetwater.com/118879-used...</td>\n",
       "      <td>fender 1965 stratocaster</td>\n",
       "    </tr>\n",
       "    <tr>\n",
       "      <th>312</th>\n",
       "      <td>https://tradingpost.sweetwater.com/118831-used...</td>\n",
       "      <td>fender bassman 10</td>\n",
       "    </tr>\n",
       "    <tr>\n",
       "      <th>365</th>\n",
       "      <td>https://tradingpost.sweetwater.com/118764-used...</td>\n",
       "      <td>fender vintage early 1969 silverface drip edge...</td>\n",
       "    </tr>\n",
       "    <tr>\n",
       "      <th>366</th>\n",
       "      <td>https://tradingpost.sweetwater.com/118764-used...</td>\n",
       "      <td>fender vintage early 1969 silverface drip edge...</td>\n",
       "    </tr>\n",
       "    <tr>\n",
       "      <th>377</th>\n",
       "      <td>https://tradingpost.sweetwater.com/118751-like...</td>\n",
       "      <td>fender hot rod deluxe reverb</td>\n",
       "    </tr>\n",
       "    <tr>\n",
       "      <th>410</th>\n",
       "      <td>https://tradingpost.sweetwater.com/118682-like...</td>\n",
       "      <td>rare 1983 fender american standard stratocaster</td>\n",
       "    </tr>\n",
       "    <tr>\n",
       "      <th>426</th>\n",
       "      <td>https://tradingpost.sweetwater.com/118652-like...</td>\n",
       "      <td>fender american standard stratocaster black 1999</td>\n",
       "    </tr>\n",
       "    <tr>\n",
       "      <th>437</th>\n",
       "      <td>https://tradingpost.sweetwater.com/118639-like...</td>\n",
       "      <td>fender american standard strat</td>\n",
       "    </tr>\n",
       "    <tr>\n",
       "      <th>452</th>\n",
       "      <td>https://tradingpost.sweetwater.com/118620-like...</td>\n",
       "      <td>fender custom shop stevie ray vaughan lenny  s...</td>\n",
       "    </tr>\n",
       "  </tbody>\n",
       "</table>\n",
       "</div>"
      ],
      "text/plain": [
       "                                                  Link  \\\n",
       "4    https://tradingpost.sweetwater.com/119157-like...   \n",
       "36   https://tradingpost.sweetwater.com/119117-like...   \n",
       "106  https://tradingpost.sweetwater.com/119097-used...   \n",
       "192  https://tradingpost.sweetwater.com/118992-used...   \n",
       "206  https://tradingpost.sweetwater.com/118977-used...   \n",
       "226  https://tradingpost.sweetwater.com/118949-like...   \n",
       "232  https://tradingpost.sweetwater.com/118927-used...   \n",
       "269  https://tradingpost.sweetwater.com/118883-used...   \n",
       "271  https://tradingpost.sweetwater.com/118881-used...   \n",
       "273  https://tradingpost.sweetwater.com/118879-used...   \n",
       "312  https://tradingpost.sweetwater.com/118831-used...   \n",
       "365  https://tradingpost.sweetwater.com/118764-used...   \n",
       "366  https://tradingpost.sweetwater.com/118764-used...   \n",
       "377  https://tradingpost.sweetwater.com/118751-like...   \n",
       "410  https://tradingpost.sweetwater.com/118682-like...   \n",
       "426  https://tradingpost.sweetwater.com/118652-like...   \n",
       "437  https://tradingpost.sweetwater.com/118639-like...   \n",
       "452  https://tradingpost.sweetwater.com/118620-like...   \n",
       "\n",
       "                                                 Title  \n",
       "4                           fender fender blues jr iii  \n",
       "36                  fender authentic 59 precision bass  \n",
       "106                        fender blues deluxe reissue  \n",
       "192                              fender 65 twin reverb  \n",
       "206  fender american standard stratocaster 2012 can...  \n",
       "226                     fender squier jazz bass squier  \n",
       "232                           fender 1957 stratocaster  \n",
       "269             fender 1969 twin reverb  blackface mod  \n",
       "271    fender 1996 nokie edwards telecaster  prototype  \n",
       "273                           fender 1965 stratocaster  \n",
       "312                                  fender bassman 10  \n",
       "365  fender vintage early 1969 silverface drip edge...  \n",
       "366  fender vintage early 1969 silverface drip edge...  \n",
       "377                       fender hot rod deluxe reverb  \n",
       "410    rare 1983 fender american standard stratocaster  \n",
       "426   fender american standard stratocaster black 1999  \n",
       "437                     fender american standard strat  \n",
       "452  fender custom shop stevie ray vaughan lenny  s...  "
      ]
     },
     "execution_count": 12,
     "metadata": {},
     "output_type": "execute_result"
    }
   ],
   "source": [
    "fenderData[['Link','Title']]"
   ]
  },
  {
   "cell_type": "code",
   "execution_count": 13,
   "metadata": {
    "collapsed": false
   },
   "outputs": [
    {
     "data": {
      "text/html": [
       "<div>\n",
       "<table border=\"1\" class=\"dataframe\">\n",
       "  <thead>\n",
       "    <tr style=\"text-align: right;\">\n",
       "      <th></th>\n",
       "      <th>Link</th>\n",
       "      <th>Title</th>\n",
       "    </tr>\n",
       "  </thead>\n",
       "  <tbody>\n",
       "    <tr>\n",
       "      <th>117</th>\n",
       "      <td>https://tradingpost.sweetwater.com/119085-like...</td>\n",
       "      <td>roland drum sound module td 30 bundle</td>\n",
       "    </tr>\n",
       "    <tr>\n",
       "      <th>253</th>\n",
       "      <td>https://tradingpost.sweetwater.com/118900-new-...</td>\n",
       "      <td>native instruments drum lab download</td>\n",
       "    </tr>\n",
       "    <tr>\n",
       "      <th>440</th>\n",
       "      <td>https://tradingpost.sweetwater.com/118636-used...</td>\n",
       "      <td>rci acrylic drum set</td>\n",
       "    </tr>\n",
       "  </tbody>\n",
       "</table>\n",
       "</div>"
      ],
      "text/plain": [
       "                                                  Link  \\\n",
       "117  https://tradingpost.sweetwater.com/119085-like...   \n",
       "253  https://tradingpost.sweetwater.com/118900-new-...   \n",
       "440  https://tradingpost.sweetwater.com/118636-used...   \n",
       "\n",
       "                                     Title  \n",
       "117  roland drum sound module td 30 bundle  \n",
       "253   native instruments drum lab download  \n",
       "440                   rci acrylic drum set  "
      ]
     },
     "execution_count": 13,
     "metadata": {},
     "output_type": "execute_result"
    }
   ],
   "source": [
    "drumData[['Link','Title']]"
   ]
  }
 ],
 "metadata": {
  "anaconda-cloud": {},
  "kernelspec": {
   "display_name": "Python [default]",
   "language": "python",
   "name": "python3"
  },
  "language_info": {
   "codemirror_mode": {
    "name": "ipython",
    "version": 3
   },
   "file_extension": ".py",
   "mimetype": "text/x-python",
   "name": "python",
   "nbconvert_exporter": "python",
   "pygments_lexer": "ipython3",
   "version": "3.5.2"
  }
 },
 "nbformat": 4,
 "nbformat_minor": 0
}
