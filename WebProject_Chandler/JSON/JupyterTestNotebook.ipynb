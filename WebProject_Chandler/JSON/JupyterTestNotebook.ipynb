{
 "cells": [
  {
   "cell_type": "code",
   "execution_count": 2,
   "metadata": {
    "collapsed": false
   },
   "outputs": [
    {
     "ename": "NameError",
     "evalue": "name 'data' is not defined",
     "output_type": "error",
     "traceback": [
      "\u001b[0;31m---------------------------------------------------------------------------\u001b[0m",
      "\u001b[0;31mNameError\u001b[0m                                 Traceback (most recent call last)",
      "\u001b[0;32m<ipython-input-2-bbbe37fd97d2>\u001b[0m in \u001b[0;36m<module>\u001b[0;34m()\u001b[0m\n\u001b[1;32m      1\u001b[0m \u001b[0mi\u001b[0m \u001b[0;34m=\u001b[0m \u001b[0;36m0\u001b[0m\u001b[0;34m\u001b[0m\u001b[0m\n\u001b[0;32m----> 2\u001b[0;31m \u001b[0;32mfor\u001b[0m \u001b[0mstuff\u001b[0m \u001b[0;32min\u001b[0m \u001b[0mdata\u001b[0m\u001b[0;34m[\u001b[0m\u001b[0;34m'Champion Name'\u001b[0m\u001b[0;34m]\u001b[0m\u001b[0;34m:\u001b[0m\u001b[0;34m\u001b[0m\u001b[0m\n\u001b[0m\u001b[1;32m      3\u001b[0m     \u001b[0;32mif\u001b[0m\u001b[0;34m(\u001b[0m\u001b[0;34m'Wukong'\u001b[0m\u001b[0;34m)\u001b[0m \u001b[0;32min\u001b[0m \u001b[0mstuff\u001b[0m\u001b[0;34m:\u001b[0m\u001b[0;34m\u001b[0m\u001b[0m\n\u001b[1;32m      4\u001b[0m         \u001b[0mprint\u001b[0m\u001b[0;34m(\u001b[0m\u001b[0mstuff\u001b[0m\u001b[0;34m)\u001b[0m\u001b[0;34m\u001b[0m\u001b[0m\n\u001b[1;32m      5\u001b[0m         \u001b[0mprint\u001b[0m\u001b[0;34m(\u001b[0m\u001b[0;34m)\u001b[0m\u001b[0;34m\u001b[0m\u001b[0m\n",
      "\u001b[0;31mNameError\u001b[0m: name 'data' is not defined"
     ]
    }
   ],
   "source": [
    "i = 0\n",
    "for stuff in data['Champion Name']:\n",
    "    if('Wukong') in stuff:\n",
    "        print(stuff)\n",
    "        print()\n",
    "        i += 1\n",
    "print(i)"
   ]
  },
  {
   "cell_type": "code",
   "execution_count": null,
   "metadata": {
    "collapsed": false
   },
   "outputs": [],
   "source": [
    "import pandas as pd\n",
    "file1 = '/Users/ChandlerCapps/Desktop/CSC3130/WebProject_Chandler/JSON/OPGG/Daily_All/2017-03-30_All.json'\n",
    "file2 = '/Users/ChandlerCapps/Desktop/CSC3130/WebProject_Chandler/JSON/OPGG/Daily_All/2017-03-31_All.json'\n",
    "\n",
    "data1 = pd.read_json(file1)\n",
    "data2 = pd.read_json(file2)"
   ]
  },
  {
   "cell_type": "code",
   "execution_count": null,
   "metadata": {
    "collapsed": false
   },
   "outputs": [],
   "source": [
    "masterData = data2.sort_values(\"Champion_Name\")\n",
    "masterData.drop(masterData.columns[[1,2,3,4]], axis=1, inplace = True)\n",
    "# masterData = masterData.reset_index(drop=True)\n",
    "masterData.set_index(\"Champion_Name\", True, False, True)\n",
    "masterData.insert(0, \"Count\", 0)"
   ]
  },
  {
   "cell_type": "code",
   "execution_count": null,
   "metadata": {
    "collapsed": false
   },
   "outputs": [],
   "source": [
    "# masterData.set_value(\"Ahri\",\"Count\", masterData.get_value(\"Ahri\",\"Count\")+1).head(10)\n",
    "# masterData.set_value(\"Ahri\",\"Count\", 0).head(10)"
   ]
  },
  {
   "cell_type": "code",
   "execution_count": null,
   "metadata": {
    "collapsed": false
   },
   "outputs": [],
   "source": [
    "# \"Function\" for pulling in new files and getting the top 10 for every day in the \"Daily\" file section\n",
    "for m in range(1,13):\n",
    "    for d in range(1,32):\n",
    "        # if statements to keep the \"0\" so the string is correct\n",
    "        if m >= 10:\n",
    "            month = str(m)\n",
    "        else:\n",
    "            month = '0'+str(m)\n",
    "        if d >= 10:\n",
    "            day = str(d)\n",
    "        else:\n",
    "            day = '0'+str(d)\n",
    "        masterData.set_value('Aatrox',\"Count\", masterData.get_value('Aatrox',\"Count\")+1).head(10)\n",
    "        thisFile = '/Users/ChandlerCapps/Desktop/CSC3130/WebProject_Chandler/JSON/OPGG/Daily_All/2017-'+month+'-'+day+'_All.json'\n",
    "        try:\n",
    "            df = pd.read_json(thisFile)\n",
    "        except ValueError:\n",
    "            continue\n",
    "        for x in range(0,9):\n",
    "            champName = df.get_value(x,'Champion_Name')\n",
    "            masterData.set_value(champName,\"Count\", masterData.get_value(champName,\"Count\")+1)"
   ]
  },
  {
   "cell_type": "code",
   "execution_count": null,
   "metadata": {
    "collapsed": false
   },
   "outputs": [],
   "source": [
    "#Count for specific Champion\n",
    "masterData.get_value('Ivern','Count')"
   ]
  },
  {
   "cell_type": "code",
   "execution_count": null,
   "metadata": {
    "collapsed": false
   },
   "outputs": [],
   "source": [
    "#Sorts data from Highest to Lowest\n",
    "masterData.sort_values('Count',0,False).head(10)"
   ]
  },
  {
   "cell_type": "code",
   "execution_count": null,
   "metadata": {
    "collapsed": true
   },
   "outputs": [],
   "source": []
  }
 ],
 "metadata": {
  "anaconda-cloud": {},
  "kernelspec": {
   "display_name": "Python [conda root]",
   "language": "python",
   "name": "conda-root-py"
  },
  "language_info": {
   "codemirror_mode": {
    "name": "ipython",
    "version": 3
   },
   "file_extension": ".py",
   "mimetype": "text/x-python",
   "name": "python",
   "nbconvert_exporter": "python",
   "pygments_lexer": "ipython3",
   "version": "3.5.2"
  }
 },
 "nbformat": 4,
 "nbformat_minor": 1
}
