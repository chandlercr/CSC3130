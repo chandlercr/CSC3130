{
 "cells": [
  {
   "cell_type": "code",
   "execution_count": 3,
   "metadata": {
    "collapsed": false
   },
   "outputs": [],
   "source": [
    "#This is for testing purposes. To try new things\n",
    "import pandas as pd\n",
    "\n",
    "filename = '/Users/ChandlerCapps/Desktop/CSC3130/WebProject_Chandler/JSON/2017-02-21_OPGG_WinPercentage.json'\n",
    "\n",
    "data = pd.read_json(filename)"
   ]
  },
  {
   "cell_type": "code",
   "execution_count": 4,
   "metadata": {
    "collapsed": false,
    "scrolled": true
   },
   "outputs": [
    {
     "ename": "NameError",
     "evalue": "name 'data' is not defined",
     "output_type": "error",
     "traceback": [
      "\u001b[0;31m---------------------------------------------------------------------------\u001b[0m",
      "\u001b[0;31mNameError\u001b[0m                                 Traceback (most recent call last)",
      "\u001b[0;32m<ipython-input-4-6137cde4893c>\u001b[0m in \u001b[0;36m<module>\u001b[0;34m()\u001b[0m\n\u001b[0;32m----> 1\u001b[0;31m \u001b[0mdata\u001b[0m\u001b[0;34m\u001b[0m\u001b[0m\n\u001b[0m",
      "\u001b[0;31mNameError\u001b[0m: name 'data' is not defined"
     ]
    }
   ],
   "source": [
    "data"
   ]
  },
  {
   "cell_type": "code",
   "execution_count": 5,
   "metadata": {
    "collapsed": false,
    "scrolled": true
   },
   "outputs": [
    {
     "ename": "NameError",
     "evalue": "name 'data' is not defined",
     "output_type": "error",
     "traceback": [
      "\u001b[0;31m---------------------------------------------------------------------------\u001b[0m",
      "\u001b[0;31mNameError\u001b[0m                                 Traceback (most recent call last)",
      "\u001b[0;32m<ipython-input-5-f61ff01a50e5>\u001b[0m in \u001b[0;36m<module>\u001b[0;34m()\u001b[0m\n\u001b[0;32m----> 1\u001b[0;31m \u001b[0mdata\u001b[0m\u001b[0;34m[\u001b[0m\u001b[0;34m'Champion Name'\u001b[0m\u001b[0;34m]\u001b[0m\u001b[0;34m\u001b[0m\u001b[0m\n\u001b[0m",
      "\u001b[0;31mNameError\u001b[0m: name 'data' is not defined"
     ]
    }
   ],
   "source": [
    "data['Champion Name']"
   ]
  },
  {
   "cell_type": "code",
   "execution_count": 6,
   "metadata": {
    "collapsed": false
   },
   "outputs": [
    {
     "ename": "NameError",
     "evalue": "name 'data' is not defined",
     "output_type": "error",
     "traceback": [
      "\u001b[0;31m---------------------------------------------------------------------------\u001b[0m",
      "\u001b[0;31mNameError\u001b[0m                                 Traceback (most recent call last)",
      "\u001b[0;32m<ipython-input-6-bbbe37fd97d2>\u001b[0m in \u001b[0;36m<module>\u001b[0;34m()\u001b[0m\n\u001b[1;32m      1\u001b[0m \u001b[0mi\u001b[0m \u001b[0;34m=\u001b[0m \u001b[0;36m0\u001b[0m\u001b[0;34m\u001b[0m\u001b[0m\n\u001b[0;32m----> 2\u001b[0;31m \u001b[0;32mfor\u001b[0m \u001b[0mstuff\u001b[0m \u001b[0;32min\u001b[0m \u001b[0mdata\u001b[0m\u001b[0;34m[\u001b[0m\u001b[0;34m'Champion Name'\u001b[0m\u001b[0;34m]\u001b[0m\u001b[0;34m:\u001b[0m\u001b[0;34m\u001b[0m\u001b[0m\n\u001b[0m\u001b[1;32m      3\u001b[0m     \u001b[0;32mif\u001b[0m\u001b[0;34m(\u001b[0m\u001b[0;34m'Wukong'\u001b[0m\u001b[0;34m)\u001b[0m \u001b[0;32min\u001b[0m \u001b[0mstuff\u001b[0m\u001b[0;34m:\u001b[0m\u001b[0;34m\u001b[0m\u001b[0m\n\u001b[1;32m      4\u001b[0m         \u001b[0mprint\u001b[0m\u001b[0;34m(\u001b[0m\u001b[0mstuff\u001b[0m\u001b[0;34m)\u001b[0m\u001b[0;34m\u001b[0m\u001b[0m\n\u001b[1;32m      5\u001b[0m         \u001b[0mprint\u001b[0m\u001b[0;34m(\u001b[0m\u001b[0;34m)\u001b[0m\u001b[0;34m\u001b[0m\u001b[0m\n",
      "\u001b[0;31mNameError\u001b[0m: name 'data' is not defined"
     ]
    }
   ],
   "source": [
    "i = 0\n",
    "for stuff in data['Champion Name']:\n",
    "    if('Wukong') in stuff:\n",
    "        print(stuff)\n",
    "        print()\n",
    "        i += 1\n",
    "print(i)"
   ]
  },
  {
   "cell_type": "code",
   "execution_count": 7,
   "metadata": {
    "collapsed": false,
    "scrolled": true
   },
   "outputs": [
    {
     "ename": "NameError",
     "evalue": "name 'data' is not defined",
     "output_type": "error",
     "traceback": [
      "\u001b[0;31m---------------------------------------------------------------------------\u001b[0m",
      "\u001b[0;31mNameError\u001b[0m                                 Traceback (most recent call last)",
      "\u001b[0;32m<ipython-input-7-7b737b268e8f>\u001b[0m in \u001b[0;36m<module>\u001b[0;34m()\u001b[0m\n\u001b[0;32m----> 1\u001b[0;31m \u001b[0mdata\u001b[0m\u001b[0;34m.\u001b[0m\u001b[0msort_values\u001b[0m\u001b[0;34m(\u001b[0m\u001b[0;34m'Champion Name'\u001b[0m\u001b[0;34m)\u001b[0m\u001b[0;34m\u001b[0m\u001b[0m\n\u001b[0m",
      "\u001b[0;31mNameError\u001b[0m: name 'data' is not defined"
     ]
    }
   ],
   "source": [
    "data.sort_values('Champion Name')"
   ]
  },
  {
   "cell_type": "code",
   "execution_count": 1,
   "metadata": {
    "collapsed": false
   },
   "outputs": [
    {
     "ename": "NameError",
     "evalue": "name 'data' is not defined",
     "output_type": "error",
     "traceback": [
      "\u001b[0;31m---------------------------------------------------------------------------\u001b[0m",
      "\u001b[0;31mNameError\u001b[0m                                 Traceback (most recent call last)",
      "\u001b[0;32m<ipython-input-1-c4e04871b677>\u001b[0m in \u001b[0;36m<module>\u001b[0;34m()\u001b[0m\n\u001b[0;32m----> 1\u001b[0;31m \u001b[0mdata\u001b[0m\u001b[0;34m[\u001b[0m\u001b[0mdata\u001b[0m\u001b[0;34m[\u001b[0m\u001b[0;34m'Champion Name'\u001b[0m\u001b[0;34m]\u001b[0m \u001b[0;34m==\u001b[0m \u001b[0;34m'Wukong'\u001b[0m\u001b[0;34m]\u001b[0m\u001b[0;34m\u001b[0m\u001b[0m\n\u001b[0m",
      "\u001b[0;31mNameError\u001b[0m: name 'data' is not defined"
     ]
    }
   ],
   "source": [
    "data[data['Champion Name'] == 'Wukong']"
   ]
  },
  {
   "cell_type": "code",
   "execution_count": 67,
   "metadata": {
    "collapsed": false
   },
   "outputs": [],
   "source": [
    "import pandas as pd\n",
    "file1 = '/Users/ChandlerCapps/Desktop/CSC3130/WebProject_Chandler/JSON/OPGG/Daily_All/2017-03-30_All.json'\n",
    "file2 = '/Users/ChandlerCapps/Desktop/CSC3130/WebProject_Chandler/JSON/OPGG/Daily_All/2017-03-31_All.json'\n",
    "\n",
    "data1 = pd.read_json(file1)\n",
    "data2 = pd.read_json(file2)"
   ]
  },
  {
   "cell_type": "code",
   "execution_count": 66,
   "metadata": {
    "collapsed": false
   },
   "outputs": [
    {
     "data": {
      "text/html": [
       "<div>\n",
       "<table border=\"1\" class=\"dataframe\">\n",
       "  <thead>\n",
       "    <tr style=\"text-align: right;\">\n",
       "      <th></th>\n",
       "      <th>Champion_Name</th>\n",
       "      <th>Champion_Rank</th>\n",
       "      <th>Date_Scraped</th>\n",
       "      <th>Number_of_Games</th>\n",
       "      <th>Win_Percentage</th>\n",
       "    </tr>\n",
       "  </thead>\n",
       "  <tbody>\n",
       "    <tr>\n",
       "      <th>0</th>\n",
       "      <td>Ivern</td>\n",
       "      <td>1</td>\n",
       "      <td>2017-03-30</td>\n",
       "      <td>4,178</td>\n",
       "      <td>54.14%</td>\n",
       "    </tr>\n",
       "    <tr>\n",
       "      <th>1</th>\n",
       "      <td>Swain</td>\n",
       "      <td>2</td>\n",
       "      <td>2017-03-30</td>\n",
       "      <td>5,735</td>\n",
       "      <td>52.75%</td>\n",
       "    </tr>\n",
       "    <tr>\n",
       "      <th>2</th>\n",
       "      <td>Shaco</td>\n",
       "      <td>3</td>\n",
       "      <td>2017-03-30</td>\n",
       "      <td>10,544</td>\n",
       "      <td>52.69%</td>\n",
       "    </tr>\n",
       "    <tr>\n",
       "      <th>3</th>\n",
       "      <td>Ahri</td>\n",
       "      <td>4</td>\n",
       "      <td>2017-03-30</td>\n",
       "      <td>18,111</td>\n",
       "      <td>52.55%</td>\n",
       "    </tr>\n",
       "    <tr>\n",
       "      <th>4</th>\n",
       "      <td>Blitzcrank</td>\n",
       "      <td>5</td>\n",
       "      <td>2017-03-30</td>\n",
       "      <td>15,266</td>\n",
       "      <td>52.44%</td>\n",
       "    </tr>\n",
       "    <tr>\n",
       "      <th>5</th>\n",
       "      <td>Skarner</td>\n",
       "      <td>6</td>\n",
       "      <td>2017-03-30</td>\n",
       "      <td>1,195</td>\n",
       "      <td>52.38%</td>\n",
       "    </tr>\n",
       "    <tr>\n",
       "      <th>6</th>\n",
       "      <td>Wukong</td>\n",
       "      <td>7</td>\n",
       "      <td>2017-03-30</td>\n",
       "      <td>5,210</td>\n",
       "      <td>51.88%</td>\n",
       "    </tr>\n",
       "    <tr>\n",
       "      <th>7</th>\n",
       "      <td>Anivia</td>\n",
       "      <td>8</td>\n",
       "      <td>2017-03-30</td>\n",
       "      <td>4,700</td>\n",
       "      <td>51.79%</td>\n",
       "    </tr>\n",
       "    <tr>\n",
       "      <th>8</th>\n",
       "      <td>Fizz</td>\n",
       "      <td>9</td>\n",
       "      <td>2017-03-30</td>\n",
       "      <td>10,390</td>\n",
       "      <td>51.61%</td>\n",
       "    </tr>\n",
       "    <tr>\n",
       "      <th>9</th>\n",
       "      <td>Janna</td>\n",
       "      <td>10</td>\n",
       "      <td>2017-03-30</td>\n",
       "      <td>8,946</td>\n",
       "      <td>51.58%</td>\n",
       "    </tr>\n",
       "  </tbody>\n",
       "</table>\n",
       "</div>"
      ],
      "text/plain": [
       "  Champion_Name  Champion_Rank Date_Scraped Number_of_Games Win_Percentage\n",
       "0         Ivern              1   2017-03-30           4,178         54.14%\n",
       "1         Swain              2   2017-03-30           5,735         52.75%\n",
       "2         Shaco              3   2017-03-30          10,544         52.69%\n",
       "3          Ahri              4   2017-03-30          18,111         52.55%\n",
       "4    Blitzcrank              5   2017-03-30          15,266         52.44%\n",
       "5       Skarner              6   2017-03-30           1,195         52.38%\n",
       "6        Wukong              7   2017-03-30           5,210         51.88%\n",
       "7        Anivia              8   2017-03-30           4,700         51.79%\n",
       "8          Fizz              9   2017-03-30          10,390         51.61%\n",
       "9         Janna             10   2017-03-30           8,946         51.58%"
      ]
     },
     "execution_count": 66,
     "metadata": {},
     "output_type": "execute_result"
    }
   ],
   "source": [
    "data1.head(10)"
   ]
  },
  {
   "cell_type": "code",
   "execution_count": 68,
   "metadata": {
    "collapsed": false
   },
   "outputs": [
    {
     "data": {
      "text/html": [
       "<div>\n",
       "<table border=\"1\" class=\"dataframe\">\n",
       "  <thead>\n",
       "    <tr style=\"text-align: right;\">\n",
       "      <th></th>\n",
       "      <th>Champion_Name</th>\n",
       "      <th>Champion_Rank</th>\n",
       "      <th>Date_Scraped</th>\n",
       "      <th>Number_of_Games</th>\n",
       "      <th>Win_Percentage</th>\n",
       "    </tr>\n",
       "  </thead>\n",
       "  <tbody>\n",
       "    <tr>\n",
       "      <th>0</th>\n",
       "      <td>Ivern</td>\n",
       "      <td>1</td>\n",
       "      <td>2017-03-31</td>\n",
       "      <td>4,071</td>\n",
       "      <td>53.84%</td>\n",
       "    </tr>\n",
       "    <tr>\n",
       "      <th>1</th>\n",
       "      <td>Shaco</td>\n",
       "      <td>2</td>\n",
       "      <td>2017-03-31</td>\n",
       "      <td>10,154</td>\n",
       "      <td>53.23%</td>\n",
       "    </tr>\n",
       "    <tr>\n",
       "      <th>2</th>\n",
       "      <td>Ahri</td>\n",
       "      <td>3</td>\n",
       "      <td>2017-03-31</td>\n",
       "      <td>17,584</td>\n",
       "      <td>52.64%</td>\n",
       "    </tr>\n",
       "    <tr>\n",
       "      <th>3</th>\n",
       "      <td>Blitzcrank</td>\n",
       "      <td>4</td>\n",
       "      <td>2017-03-31</td>\n",
       "      <td>14,895</td>\n",
       "      <td>51.90%</td>\n",
       "    </tr>\n",
       "    <tr>\n",
       "      <th>4</th>\n",
       "      <td>Xerath</td>\n",
       "      <td>5</td>\n",
       "      <td>2017-03-31</td>\n",
       "      <td>3,254</td>\n",
       "      <td>51.87%</td>\n",
       "    </tr>\n",
       "    <tr>\n",
       "      <th>5</th>\n",
       "      <td>Sona</td>\n",
       "      <td>6</td>\n",
       "      <td>2017-03-31</td>\n",
       "      <td>9,841</td>\n",
       "      <td>51.87%</td>\n",
       "    </tr>\n",
       "    <tr>\n",
       "      <th>6</th>\n",
       "      <td>Swain</td>\n",
       "      <td>7</td>\n",
       "      <td>2017-03-31</td>\n",
       "      <td>5,556</td>\n",
       "      <td>51.55%</td>\n",
       "    </tr>\n",
       "    <tr>\n",
       "      <th>7</th>\n",
       "      <td>Janna</td>\n",
       "      <td>8</td>\n",
       "      <td>2017-03-31</td>\n",
       "      <td>8,677</td>\n",
       "      <td>51.49%</td>\n",
       "    </tr>\n",
       "    <tr>\n",
       "      <th>8</th>\n",
       "      <td>Anivia</td>\n",
       "      <td>9</td>\n",
       "      <td>2017-03-31</td>\n",
       "      <td>4,357</td>\n",
       "      <td>51.48%</td>\n",
       "    </tr>\n",
       "    <tr>\n",
       "      <th>9</th>\n",
       "      <td>Fizz</td>\n",
       "      <td>10</td>\n",
       "      <td>2017-03-31</td>\n",
       "      <td>10,511</td>\n",
       "      <td>51.37%</td>\n",
       "    </tr>\n",
       "  </tbody>\n",
       "</table>\n",
       "</div>"
      ],
      "text/plain": [
       "  Champion_Name  Champion_Rank Date_Scraped Number_of_Games Win_Percentage\n",
       "0         Ivern              1   2017-03-31           4,071         53.84%\n",
       "1         Shaco              2   2017-03-31          10,154         53.23%\n",
       "2          Ahri              3   2017-03-31          17,584         52.64%\n",
       "3    Blitzcrank              4   2017-03-31          14,895         51.90%\n",
       "4        Xerath              5   2017-03-31           3,254         51.87%\n",
       "5          Sona              6   2017-03-31           9,841         51.87%\n",
       "6         Swain              7   2017-03-31           5,556         51.55%\n",
       "7         Janna              8   2017-03-31           8,677         51.49%\n",
       "8        Anivia              9   2017-03-31           4,357         51.48%\n",
       "9          Fizz             10   2017-03-31          10,511         51.37%"
      ]
     },
     "execution_count": 68,
     "metadata": {},
     "output_type": "execute_result"
    }
   ],
   "source": [
    "data2.head(10)"
   ]
  },
  {
   "cell_type": "code",
   "execution_count": 70,
   "metadata": {
    "collapsed": false
   },
   "outputs": [],
   "source": [
    "masterData = data2.sort_values(\"Champion_Name\")"
   ]
  },
  {
   "cell_type": "code",
   "execution_count": null,
   "metadata": {
    "collapsed": true
   },
   "outputs": [],
   "source": []
  },
  {
   "cell_type": "markdown",
   "metadata": {},
   "source": []
  }
 ],
 "metadata": {
  "anaconda-cloud": {},
  "kernelspec": {
   "display_name": "Python [conda root]",
   "language": "python",
   "name": "conda-root-py"
  },
  "language_info": {
   "codemirror_mode": {
    "name": "ipython",
    "version": 3
   },
   "file_extension": ".py",
   "mimetype": "text/x-python",
   "name": "python",
   "nbconvert_exporter": "python",
   "pygments_lexer": "ipython3",
   "version": "3.5.2"
  }
 },
 "nbformat": 4,
 "nbformat_minor": 1
}
