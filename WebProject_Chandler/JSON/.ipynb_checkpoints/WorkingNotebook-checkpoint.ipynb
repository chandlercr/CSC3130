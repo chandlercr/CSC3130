{
 "cells": [
  {
   "cell_type": "code",
   "execution_count": null,
   "metadata": {
    "collapsed": false
   },
   "outputs": [],
   "source": [
    "# This is the notebook that I will be working on for the project. This may be subject to change.\n",
    "import matplotlib\n",
    "import numpy as np\n",
    "import matplotlib.pyplot as plt\n",
    "%matplotlib inline\n",
    "import pandas as pd\n",
    "\n",
    "file1 = '/Users/ChandlerCapps/Desktop/CSC3130/WebProject_Chandler/JSON/OPGG/Daily_All/2017-03-30_All.json'\n",
    "file2 = '/Users/ChandlerCapps/Desktop/CSC3130/WebProject_Chandler/JSON/OPGG/Daily_All/2017-03-31_All.json'\n",
    "\n",
    "data1 = pd.read_json(file1)\n",
    "data2 = pd.read_json(file2)"
   ]
  },
  {
   "cell_type": "code",
   "execution_count": null,
   "metadata": {
    "collapsed": true
   },
   "outputs": [],
   "source": [
    "# 1) I can use this data to look at common stats between characters and how they fit in the \"meta\" (current gameplay)\n",
    "# 2) I can look at all of the dates and look at the most common top 5 champions that are the best\n",
    "# 3) I can also take the rank that they are in and find the true top 5 or 10 instead of just the amount of times they show up\n",
    "# 4) With the ban and pick rates I can see who is having the most success in their games\n",
    "# 5) With ban and pick rates I can see who is the most worthy ban/pick due to their win% and other stats"
   ]
  },
  {
   "cell_type": "code",
   "execution_count": null,
   "metadata": {
    "collapsed": false
   },
   "outputs": [],
   "source": [
    "# Sets up 'masterData' to be the count table\n",
    "# Re-running this will also reset the table\n",
    "# \"masterData\": counts the number of times champions show up in the top 10 list from each day\n",
    "masterData = data1.sort_values(\"Champion_Name\")\n",
    "masterData.drop(masterData.columns[[1,2,3,4]], axis=1, inplace = True)\n",
    "masterData.set_index(\"Champion_Name\", True, False, True)\n",
    "masterData.insert(0, \"Count\", 0)"
   ]
  },
  {
   "cell_type": "code",
   "execution_count": null,
   "metadata": {
    "collapsed": false
   },
   "outputs": [],
   "source": [
    "# \"Function\" for pulling in new files and getting the count of how many times a Champion shows up for every day \n",
    "# in the \"Daily\" file section\n",
    "for m in range(1,13):\n",
    "    for d in range(1,32):\n",
    "        # if statements to keep the \"0\" so the string is correct\n",
    "        if m >= 10:\n",
    "            month = str(m)\n",
    "        else:\n",
    "            month = '0'+str(m)\n",
    "        if d >= 10:\n",
    "            day = str(d)\n",
    "        else:\n",
    "            day = '0'+str(d)\n",
    "        thisFile = '/Users/ChandlerCapps/Desktop/CSC3130/WebProject_Chandler/JSON/OPGG/Daily_All/2017-'+month+'-'+day+'_All.json'\n",
    "        try:\n",
    "            df = pd.read_json(thisFile)\n",
    "        except ValueError:\n",
    "            continue\n",
    "        for x in range(0,9):\n",
    "            champName = df.get_value(x,'Champion_Name')\n",
    "            masterData.set_value(champName,\"Count\", masterData.get_value(champName,\"Count\")+1)"
   ]
  },
  {
   "cell_type": "code",
   "execution_count": null,
   "metadata": {
    "collapsed": false
   },
   "outputs": [],
   "source": [
    "masterData.sort_values('Count',0,False).head(10)"
   ]
  },
  {
   "cell_type": "code",
   "execution_count": null,
   "metadata": {
    "collapsed": true
   },
   "outputs": [],
   "source": [
    "# Sets up \"rankData\" much like masterData\n",
    "# \"rankData\": uses the rank of the data to show the true meaning of rank. Not just the # of times\n",
    "rankData = data1.sort_values(\"Champion_Name\")\n",
    "rankData.drop(rankData.columns[[1,2,3,4]], axis=1, inplace = True)\n",
    "rankData.set_index(\"Champion_Name\", True, False, True)\n",
    "rankData.insert(0, \"Count\", 0)"
   ]
  },
  {
   "cell_type": "code",
   "execution_count": null,
   "metadata": {
    "collapsed": false
   },
   "outputs": [],
   "source": [
    "# \"Function\" for pulling in new files and getting the count of how many times a Champion shows up for every day \n",
    "# in the \"Daily\" file section\n",
    "\n",
    "# Work on this\n",
    "\n",
    "numbers = [10,9,8,7,6,5,4,3,2,1]\n",
    "\n",
    "for m in range(1,13):\n",
    "    for d in range(1,32):\n",
    "        # if statements to keep the \"0\" so the string is correct\n",
    "        if m >= 10:\n",
    "            month = str(m)\n",
    "        else:\n",
    "            month = '0'+str(m)\n",
    "        if d >= 10:\n",
    "            day = str(d)\n",
    "        else:\n",
    "            day = '0'+str(d)\n",
    "        rankFile = '/Users/ChandlerCapps/Desktop/CSC3130/WebProject_Chandler/JSON/OPGG/Daily_All/2017-'+month+'-'+day+'_All.json'\n",
    "        try:\n",
    "            df = pd.read_json(rankFile)\n",
    "        except ValueError:\n",
    "            continue\n",
    "        for x in range(0,9):\n",
    "            champName = df.get_value(x,'Champion_Name')\n",
    "            rankData.set_value(champName,\"Count\", rankData.get_value(champName,\"Count\")+numbers[x])"
   ]
  },
  {
   "cell_type": "code",
   "execution_count": null,
   "metadata": {
    "collapsed": false
   },
   "outputs": [],
   "source": [
    "type(rankData.sort_values('Count',0,False).head(10).Count)"
   ]
  },
  {
   "cell_type": "code",
   "execution_count": null,
   "metadata": {
    "collapsed": true
   },
   "outputs": [],
   "source": [
    "# Sets up \"rankData\" much like masterData\n",
    "# \"rankData\": uses the rank of the data to show the true meaning of rank. Not just the # of times\n",
    "bronzeData = data1.sort_values(\"Champion_Name\")\n",
    "bronzeData.drop(bronzeData.columns[[1,2,3,4]], axis=1, inplace = True)\n",
    "bronzeData.set_index(\"Champion_Name\", True, False, True)\n",
    "bronzeData.insert(0, \"Count\", 0)"
   ]
  },
  {
   "cell_type": "code",
   "execution_count": null,
   "metadata": {
    "collapsed": true
   },
   "outputs": [],
   "source": [
    "# \"Function\" for pulling in new files and getting the count of how many times a Champion shows up for every day \n",
    "# in the \"Daily\" file section\n",
    "\n",
    "# I can do this for any league ranking I would wany by changing one or two things\n",
    "\n",
    "numbers = [10,9,8,7,6,5,4,3,2,1]\n",
    "\n",
    "for m in range(1,13):\n",
    "    for d in range(1,32):\n",
    "        # if statements to keep the \"0\" so the string is correct\n",
    "        if m >= 10:\n",
    "            month = str(m)\n",
    "        else:\n",
    "            month = '0'+str(m)\n",
    "        if d >= 10:\n",
    "            day = str(d)\n",
    "        else:\n",
    "            day = '0'+str(d)\n",
    "        bronzeFile = '/Users/ChandlerCapps/Desktop/CSC3130/WebProject_Chandler/JSON/OPGG/Daily_All/2017-'+month+'-'+day+'_1Bronze.json'\n",
    "        try:\n",
    "            df = pd.read_json(bronzeFile)\n",
    "        except ValueError:\n",
    "            continue\n",
    "        for x in range(0,9):\n",
    "            champName = df.get_value(x,'Champion_Name')\n",
    "            bronzeData.set_value(champName,\"Count\", bronzeData.get_value(champName,\"Count\")+numbers[x])"
   ]
  },
  {
   "cell_type": "code",
   "execution_count": null,
   "metadata": {
    "collapsed": false
   },
   "outputs": [],
   "source": [
    "bronzeData.sort_values('Count',0,False).head(10)"
   ]
  },
  {
   "cell_type": "code",
   "execution_count": null,
   "metadata": {
    "collapsed": false
   },
   "outputs": [],
   "source": [
    "#Graph shows the top 10 list and their \"true\" values\n",
    "\n",
    "#puts the original index back in and sorts them\n",
    "holder = bronzeData\n",
    "holder = holder.sort_values('Count',0,False).head(10).reset_index(drop = False)\n",
    "bronzeChampList = []\n",
    "bronzeValues = []\n",
    "for x in range(0,10):\n",
    "    bronzeChampList.append(holder.get_value(x,\"Champion_Name\"))\n",
    "    bronzeValues.append(holder.get_value(x,\"Count\"))\n",
    "\n",
    "objects = (bronzeChampList)\n",
    "y_pos = np.arange(len(objects))\n",
    "plt.xticks(y_pos, objects)\n",
    "plt.ylabel('Counts')\n",
    "plt.title('Champion Name')\n",
    "\n",
    "plt.bar(y_pos, bronzeValues, align='center',alpha=0.5)\n",
    "bronzeData.sort_values('Count',0,False).head(10)"
   ]
  },
  {
   "cell_type": "code",
   "execution_count": null,
   "metadata": {
    "collapsed": false
   },
   "outputs": [],
   "source": [
    "# To get a certains champs daily listings in a graph\n",
    "dates = []\n",
    "values = []\n",
    "name = 'Ivern'\n",
    "\n",
    "for m in range(1,13):\n",
    "    for d in range(1,32):\n",
    "        # if statements to keep the \"0\" so the string is correct\n",
    "        if m >= 10:\n",
    "            month = str(m)\n",
    "        else:\n",
    "            month = '0'+str(m)\n",
    "        if d >= 10:\n",
    "            day = str(d)\n",
    "        else:\n",
    "            day = '0'+str(d)\n",
    "        thisFile = '/Users/ChandlerCapps/Desktop/CSC3130/WebProject_Chandler/JSON/OPGG/Daily_All/2017-'+month+'-'+day+'_All.json'\n",
    "        try:\n",
    "            df = pd.read_json(thisFile)\n",
    "        except ValueError:\n",
    "            continue\n",
    "        df.set_index(\"Champion_Name\", True, False, True)\n",
    "        values.append(134 - df.get_value(name, \"Champion_Rank\"))\n",
    "        dates.append(df.get_value(name, \"Date_Scraped\"))"
   ]
  },
  {
   "cell_type": "code",
   "execution_count": null,
   "metadata": {
    "collapsed": false
   },
   "outputs": [],
   "source": [
    "objects = (dates)\n",
    "y_pos = np.arange(len(objects))\n",
    "plt.xticks(y_pos, objects)\n",
    "plt.ylabel('Counts')\n",
    "plt.title('Dates for: '+ name)\n",
    "\n",
    "plt.bar(y_pos, values, align='center',alpha=0.5)\n",
    "dates"
   ]
  },
  {
   "cell_type": "code",
   "execution_count": null,
   "metadata": {
    "collapsed": false
   },
   "outputs": [],
   "source": []
  }
 ],
 "metadata": {
  "anaconda-cloud": {},
  "kernelspec": {
   "display_name": "Python [conda root]",
   "language": "python",
   "name": "conda-root-py"
  },
  "language_info": {
   "codemirror_mode": {
    "name": "ipython",
    "version": 3
   },
   "file_extension": ".py",
   "mimetype": "text/x-python",
   "name": "python",
   "nbconvert_exporter": "python",
   "pygments_lexer": "ipython3",
   "version": "3.5.2"
  }
 },
 "nbformat": 4,
 "nbformat_minor": 1
}
