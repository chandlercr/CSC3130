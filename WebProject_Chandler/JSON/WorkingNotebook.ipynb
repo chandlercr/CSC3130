{
 "cells": [
  {
   "cell_type": "code",
   "execution_count": 1,
   "metadata": {
    "collapsed": false
   },
   "outputs": [],
   "source": [
    "# This is the notebook that I will be working on for the project. This may be subject to change.\n",
    "import matplotlib\n",
    "import numpy as np\n",
    "import matplotlib.pyplot as plt\n",
    "%matplotlib inline\n",
    "import pandas as pd\n",
    "\n",
    "file1 = '/Users/ChandlerCapps/Desktop/CSC3130/WebProject_Chandler/JSON/OPGG/Daily_All/2017-03-30_All.json'\n",
    "file2 = '/Users/ChandlerCapps/Desktop/CSC3130/WebProject_Chandler/JSON/OPGG/Daily_All/2017-03-31_All.json'\n",
    "\n",
    "data1 = pd.read_json(file1)\n",
    "data2 = pd.read_json(file2)"
   ]
  },
  {
   "cell_type": "code",
   "execution_count": 2,
   "metadata": {
    "collapsed": true
   },
   "outputs": [],
   "source": [
    "# 1) I can use this data to look at common stats between characters and how they fit in the \"meta\" (current gameplay)\n",
    "# 2) I can look at all of the dates and look at the most common top 5 champions that are the best\n",
    "# 3) I can also take the rank that they are in and find the true top 5 or 10 instead of just the amount of times they show up\n",
    "# 4) With the ban and pick rates I can see who is having the most success in their games\n",
    "# 5) With ban and pick rates I can see who is the most worthy ban/pick due to their win% and other stats"
   ]
  },
  {
   "cell_type": "code",
   "execution_count": 3,
   "metadata": {
    "collapsed": false
   },
   "outputs": [],
   "source": [
    "# Sets up 'masterData' to be the count table\n",
    "# Re-running this will also reset the table\n",
    "# \"masterData\": counts the number of times champions show up in the top 10 list from each day\n",
    "masterData = data1.sort_values(\"Champion_Name\")\n",
    "masterData.drop(masterData.columns[[1,2,3,4]], axis=1, inplace = True)\n",
    "masterData.set_index(\"Champion_Name\", True, False, True)\n",
    "masterData.insert(0, \"Count\", 0)"
   ]
  },
  {
   "cell_type": "code",
   "execution_count": 4,
   "metadata": {
    "collapsed": false
   },
   "outputs": [],
   "source": [
    "# \"Function\" for pulling in new files and getting the count of how many times a Champion shows up for every day \n",
    "# in the \"Daily\" file section\n",
    "for m in range(1,13):\n",
    "    for d in range(1,32):\n",
    "        # if statements to keep the \"0\" so the string is correct\n",
    "        if m >= 10:\n",
    "            month = str(m)\n",
    "        else:\n",
    "            month = '0'+str(m)\n",
    "        if d >= 10:\n",
    "            day = str(d)\n",
    "        else:\n",
    "            day = '0'+str(d)\n",
    "        thisFile = '/Users/ChandlerCapps/Desktop/CSC3130/WebProject_Chandler/JSON/OPGG/Daily_All/2017-'+month+'-'+day+'_All.json'\n",
    "        try:\n",
    "            df = pd.read_json(thisFile)\n",
    "        except ValueError:\n",
    "            continue\n",
    "        for x in range(0,9):\n",
    "            champName = df.get_value(x,'Champion_Name')\n",
    "            masterData.set_value(champName,\"Count\", masterData.get_value(champName,\"Count\")+1)"
   ]
  },
  {
   "cell_type": "code",
   "execution_count": 7,
   "metadata": {
    "collapsed": false
   },
   "outputs": [
    {
     "data": {
      "text/html": [
       "<div>\n",
       "<table border=\"1\" class=\"dataframe\">\n",
       "  <thead>\n",
       "    <tr style=\"text-align: right;\">\n",
       "      <th></th>\n",
       "      <th>Count</th>\n",
       "    </tr>\n",
       "    <tr>\n",
       "      <th>Champion_Name</th>\n",
       "      <th></th>\n",
       "    </tr>\n",
       "  </thead>\n",
       "  <tbody>\n",
       "    <tr>\n",
       "      <th>Ivern</th>\n",
       "      <td>20</td>\n",
       "    </tr>\n",
       "    <tr>\n",
       "      <th>Ahri</th>\n",
       "      <td>19</td>\n",
       "    </tr>\n",
       "    <tr>\n",
       "      <th>Anivia</th>\n",
       "      <td>16</td>\n",
       "    </tr>\n",
       "    <tr>\n",
       "      <th>Sona</th>\n",
       "      <td>15</td>\n",
       "    </tr>\n",
       "    <tr>\n",
       "      <th>Swain</th>\n",
       "      <td>14</td>\n",
       "    </tr>\n",
       "    <tr>\n",
       "      <th>Amumu</th>\n",
       "      <td>14</td>\n",
       "    </tr>\n",
       "    <tr>\n",
       "      <th>Kog'Maw</th>\n",
       "      <td>11</td>\n",
       "    </tr>\n",
       "    <tr>\n",
       "      <th>Blitzcrank</th>\n",
       "      <td>10</td>\n",
       "    </tr>\n",
       "    <tr>\n",
       "      <th>Master Yi</th>\n",
       "      <td>5</td>\n",
       "    </tr>\n",
       "    <tr>\n",
       "      <th>Shaco</th>\n",
       "      <td>5</td>\n",
       "    </tr>\n",
       "  </tbody>\n",
       "</table>\n",
       "</div>"
      ],
      "text/plain": [
       "               Count\n",
       "Champion_Name       \n",
       "Ivern             20\n",
       "Ahri              19\n",
       "Anivia            16\n",
       "Sona              15\n",
       "Swain             14\n",
       "Amumu             14\n",
       "Kog'Maw           11\n",
       "Blitzcrank        10\n",
       "Master Yi          5\n",
       "Shaco              5"
      ]
     },
     "execution_count": 7,
     "metadata": {},
     "output_type": "execute_result"
    }
   ],
   "source": [
    "masterData.sort_values('Count',0,False).head(10)"
   ]
  },
  {
   "cell_type": "code",
   "execution_count": 8,
   "metadata": {
    "collapsed": true
   },
   "outputs": [],
   "source": [
    "# Sets up \"rankData\" much like masterData\n",
    "# \"rankData\": uses the rank of the data to show the true meaning of rank. Not just the # of times\n",
    "rankData = data1.sort_values(\"Champion_Name\")\n",
    "rankData.drop(rankData.columns[[1,2,3,4]], axis=1, inplace = True)\n",
    "rankData.set_index(\"Champion_Name\", True, False, True)\n",
    "rankData.insert(0, \"Count\", 0)"
   ]
  },
  {
   "cell_type": "code",
   "execution_count": 9,
   "metadata": {
    "collapsed": false
   },
   "outputs": [],
   "source": [
    "# \"Function\" for pulling in new files and getting the count of how many times a Champion shows up for every day \n",
    "# in the \"Daily\" file section\n",
    "\n",
    "# Work on this\n",
    "\n",
    "numbers = [10,9,8,7,6,5,4,3,2,1]\n",
    "\n",
    "for m in range(1,13):\n",
    "    for d in range(1,32):\n",
    "        # if statements to keep the \"0\" so the string is correct\n",
    "        if m >= 10:\n",
    "            month = str(m)\n",
    "        else:\n",
    "            month = '0'+str(m)\n",
    "        if d >= 10:\n",
    "            day = str(d)\n",
    "        else:\n",
    "            day = '0'+str(d)\n",
    "        rankFile = '/Users/ChandlerCapps/Desktop/CSC3130/WebProject_Chandler/JSON/OPGG/Daily_All/2017-'+month+'-'+day+'_All.json'\n",
    "        try:\n",
    "            df = pd.read_json(rankFile)\n",
    "        except ValueError:\n",
    "            continue\n",
    "        for x in range(0,9):\n",
    "            champName = df.get_value(x,'Champion_Name')\n",
    "            rankData.set_value(champName,\"Count\", rankData.get_value(champName,\"Count\")+numbers[x])"
   ]
  },
  {
   "cell_type": "code",
   "execution_count": 12,
   "metadata": {
    "collapsed": false
   },
   "outputs": [
    {
     "data": {
      "text/html": [
       "<div>\n",
       "<table border=\"1\" class=\"dataframe\">\n",
       "  <thead>\n",
       "    <tr style=\"text-align: right;\">\n",
       "      <th></th>\n",
       "      <th>Count</th>\n",
       "    </tr>\n",
       "    <tr>\n",
       "      <th>Champion_Name</th>\n",
       "      <th></th>\n",
       "    </tr>\n",
       "  </thead>\n",
       "  <tbody>\n",
       "    <tr>\n",
       "      <th>Ivern</th>\n",
       "      <td>178</td>\n",
       "    </tr>\n",
       "    <tr>\n",
       "      <th>Amumu</th>\n",
       "      <td>131</td>\n",
       "    </tr>\n",
       "    <tr>\n",
       "      <th>Ahri</th>\n",
       "      <td>129</td>\n",
       "    </tr>\n",
       "    <tr>\n",
       "      <th>Sona</th>\n",
       "      <td>97</td>\n",
       "    </tr>\n",
       "    <tr>\n",
       "      <th>Anivia</th>\n",
       "      <td>92</td>\n",
       "    </tr>\n",
       "    <tr>\n",
       "      <th>Swain</th>\n",
       "      <td>81</td>\n",
       "    </tr>\n",
       "    <tr>\n",
       "      <th>Blitzcrank</th>\n",
       "      <td>55</td>\n",
       "    </tr>\n",
       "    <tr>\n",
       "      <th>Kog'Maw</th>\n",
       "      <td>52</td>\n",
       "    </tr>\n",
       "    <tr>\n",
       "      <th>Shaco</th>\n",
       "      <td>43</td>\n",
       "    </tr>\n",
       "    <tr>\n",
       "      <th>Xerath</th>\n",
       "      <td>31</td>\n",
       "    </tr>\n",
       "  </tbody>\n",
       "</table>\n",
       "</div>"
      ],
      "text/plain": [
       "               Count\n",
       "Champion_Name       \n",
       "Ivern            178\n",
       "Amumu            131\n",
       "Ahri             129\n",
       "Sona              97\n",
       "Anivia            92\n",
       "Swain             81\n",
       "Blitzcrank        55\n",
       "Kog'Maw           52\n",
       "Shaco             43\n",
       "Xerath            31"
      ]
     },
     "execution_count": 12,
     "metadata": {},
     "output_type": "execute_result"
    }
   ],
   "source": [
    "rankData.sort_values('Count',0,False).head(10)"
   ]
  },
  {
   "cell_type": "code",
   "execution_count": 13,
   "metadata": {
    "collapsed": true
   },
   "outputs": [],
   "source": [
    "# Sets up \"rankData\" much like masterData\n",
    "# \"rankData\": uses the rank of the data to show the true meaning of rank. Not just the # of times\n",
    "bronzeData = data1.sort_values(\"Champion_Name\")\n",
    "bronzeData.drop(bronzeData.columns[[1,2,3,4]], axis=1, inplace = True)\n",
    "bronzeData.set_index(\"Champion_Name\", True, False, True)\n",
    "bronzeData.insert(0, \"Count\", 0)"
   ]
  },
  {
   "cell_type": "code",
   "execution_count": 14,
   "metadata": {
    "collapsed": true
   },
   "outputs": [],
   "source": [
    "# \"Function\" for pulling in new files and getting the count of how many times a Champion shows up for every day \n",
    "# in the \"Daily\" file section\n",
    "\n",
    "# I can do this for any league ranking I would wany by changing one or two things\n",
    "\n",
    "numbers = [10,9,8,7,6,5,4,3,2,1]\n",
    "\n",
    "for m in range(1,13):\n",
    "    for d in range(1,32):\n",
    "        # if statements to keep the \"0\" so the string is correct\n",
    "        if m >= 10:\n",
    "            month = str(m)\n",
    "        else:\n",
    "            month = '0'+str(m)\n",
    "        if d >= 10:\n",
    "            day = str(d)\n",
    "        else:\n",
    "            day = '0'+str(d)\n",
    "        bronzeFile = '/Users/ChandlerCapps/Desktop/CSC3130/WebProject_Chandler/JSON/OPGG/Daily_All/2017-'+month+'-'+day+'_1Bronze.json'\n",
    "        try:\n",
    "            df = pd.read_json(bronzeFile)\n",
    "        except ValueError:\n",
    "            continue\n",
    "        for x in range(0,9):\n",
    "            champName = df.get_value(x,'Champion_Name')\n",
    "            bronzeData.set_value(champName,\"Count\", bronzeData.get_value(champName,\"Count\")+numbers[x])"
   ]
  },
  {
   "cell_type": "code",
   "execution_count": 15,
   "metadata": {
    "collapsed": false
   },
   "outputs": [
    {
     "data": {
      "text/html": [
       "<div>\n",
       "<table border=\"1\" class=\"dataframe\">\n",
       "  <thead>\n",
       "    <tr style=\"text-align: right;\">\n",
       "      <th></th>\n",
       "      <th>Count</th>\n",
       "    </tr>\n",
       "    <tr>\n",
       "      <th>Champion_Name</th>\n",
       "      <th></th>\n",
       "    </tr>\n",
       "  </thead>\n",
       "  <tbody>\n",
       "    <tr>\n",
       "      <th>Amumu</th>\n",
       "      <td>153</td>\n",
       "    </tr>\n",
       "    <tr>\n",
       "      <th>Sion</th>\n",
       "      <td>80</td>\n",
       "    </tr>\n",
       "    <tr>\n",
       "      <th>Sona</th>\n",
       "      <td>74</td>\n",
       "    </tr>\n",
       "    <tr>\n",
       "      <th>Zac</th>\n",
       "      <td>72</td>\n",
       "    </tr>\n",
       "    <tr>\n",
       "      <th>Yorick</th>\n",
       "      <td>68</td>\n",
       "    </tr>\n",
       "    <tr>\n",
       "      <th>Swain</th>\n",
       "      <td>65</td>\n",
       "    </tr>\n",
       "    <tr>\n",
       "      <th>Brand</th>\n",
       "      <td>59</td>\n",
       "    </tr>\n",
       "    <tr>\n",
       "      <th>Xin Zhao</th>\n",
       "      <td>53</td>\n",
       "    </tr>\n",
       "    <tr>\n",
       "      <th>Anivia</th>\n",
       "      <td>41</td>\n",
       "    </tr>\n",
       "    <tr>\n",
       "      <th>Master Yi</th>\n",
       "      <td>39</td>\n",
       "    </tr>\n",
       "  </tbody>\n",
       "</table>\n",
       "</div>"
      ],
      "text/plain": [
       "               Count\n",
       "Champion_Name       \n",
       "Amumu            153\n",
       "Sion              80\n",
       "Sona              74\n",
       "Zac               72\n",
       "Yorick            68\n",
       "Swain             65\n",
       "Brand             59\n",
       "Xin Zhao          53\n",
       "Anivia            41\n",
       "Master Yi         39"
      ]
     },
     "execution_count": 15,
     "metadata": {},
     "output_type": "execute_result"
    }
   ],
   "source": [
    "bronzeData.sort_values('Count',0,False).head(10)"
   ]
  },
  {
   "cell_type": "code",
   "execution_count": 20,
   "metadata": {
    "collapsed": false
   },
   "outputs": [
    {
     "data": {
      "text/html": [
       "<div>\n",
       "<table border=\"1\" class=\"dataframe\">\n",
       "  <thead>\n",
       "    <tr style=\"text-align: right;\">\n",
       "      <th></th>\n",
       "      <th>Champion_Name</th>\n",
       "      <th>Count</th>\n",
       "    </tr>\n",
       "  </thead>\n",
       "  <tbody>\n",
       "    <tr>\n",
       "      <th>0</th>\n",
       "      <td>Amumu</td>\n",
       "      <td>153</td>\n",
       "    </tr>\n",
       "    <tr>\n",
       "      <th>1</th>\n",
       "      <td>Sion</td>\n",
       "      <td>80</td>\n",
       "    </tr>\n",
       "    <tr>\n",
       "      <th>2</th>\n",
       "      <td>Sona</td>\n",
       "      <td>74</td>\n",
       "    </tr>\n",
       "    <tr>\n",
       "      <th>3</th>\n",
       "      <td>Zac</td>\n",
       "      <td>72</td>\n",
       "    </tr>\n",
       "    <tr>\n",
       "      <th>4</th>\n",
       "      <td>Yorick</td>\n",
       "      <td>68</td>\n",
       "    </tr>\n",
       "    <tr>\n",
       "      <th>5</th>\n",
       "      <td>Swain</td>\n",
       "      <td>65</td>\n",
       "    </tr>\n",
       "    <tr>\n",
       "      <th>6</th>\n",
       "      <td>Brand</td>\n",
       "      <td>59</td>\n",
       "    </tr>\n",
       "    <tr>\n",
       "      <th>7</th>\n",
       "      <td>Xin Zhao</td>\n",
       "      <td>53</td>\n",
       "    </tr>\n",
       "    <tr>\n",
       "      <th>8</th>\n",
       "      <td>Anivia</td>\n",
       "      <td>41</td>\n",
       "    </tr>\n",
       "    <tr>\n",
       "      <th>9</th>\n",
       "      <td>Master Yi</td>\n",
       "      <td>39</td>\n",
       "    </tr>\n",
       "  </tbody>\n",
       "</table>\n",
       "</div>"
      ],
      "text/plain": [
       "  Champion_Name  Count\n",
       "0         Amumu    153\n",
       "1          Sion     80\n",
       "2          Sona     74\n",
       "3           Zac     72\n",
       "4        Yorick     68\n",
       "5         Swain     65\n",
       "6         Brand     59\n",
       "7      Xin Zhao     53\n",
       "8        Anivia     41\n",
       "9     Master Yi     39"
      ]
     },
     "execution_count": 20,
     "metadata": {},
     "output_type": "execute_result"
    },
    {
     "data": {
      "image/png": "[encoded data removed]",
      "text/plain": [
       "<matplotlib.figure.Figure at 0x112d2b588>"
      ]
     },
     "metadata": {},
     "output_type": "display_data"
    }
   ],
   "source": [
    "#Graph shows the top 10 list and their \"true\" values\n",
    "\n",
    "#puts the original index back in and sorts them\n",
    "holder = bronzeData\n",
    "holder = holder.sort_values('Count',0,False).head(10).reset_index(drop = False)\n",
    "bronzeChampList = []\n",
    "bronzeValues = []\n",
    "for x in range(0,10):\n",
    "    bronzeChampList.append(holder.get_value(x,\"Champion_Name\"))\n",
    "    bronzeValues.append(holder.get_value(x,\"Count\"))\n",
    "\n",
    "objects = (bronzeChampList)\n",
    "# y_pos = np.arange(len(objects))\n",
    "plt.xticks(y_pos, objects)\n",
    "plt.ylabel('Counts')\n",
    "plt.title('Champion Name')\n",
    "# fig = plt.figure(figsize=(15,7))\n",
    "\n",
    "plt.bar(y_pos, bronzeValues, align='center',alpha=0.5)\n",
    "holder.sort_values('Count',0,False).head(10)"
   ]
  },
  {
   "cell_type": "code",
   "execution_count": 27,
   "metadata": {
    "collapsed": false
   },
   "outputs": [],
   "source": [
    "# To get a certains champs daily listings in a graph\n",
    "dates = []\n",
    "values = []\n",
    "name = 'Amumu'\n",
    "\n",
    "for m in range(1,13):\n",
    "    for d in range(1,32):\n",
    "        # if statements to keep the \"0\" so the string is correct\n",
    "        if m >= 10:\n",
    "            month = str(m)\n",
    "        else:\n",
    "            month = '0'+str(m)\n",
    "        if d >= 10:\n",
    "            day = str(d)\n",
    "        else:\n",
    "            day = '0'+str(d)\n",
    "        thisFile = '/Users/ChandlerCapps/Desktop/CSC3130/WebProject_Chandler/JSON/OPGG/Daily_All/2017-'+month+'-'+day+'_All.json'\n",
    "        try:\n",
    "            df = pd.read_json(thisFile)\n",
    "        except ValueError:\n",
    "            continue\n",
    "        df.set_index(\"Champion_Name\", True, False, True)\n",
    "        values.append(134 - df.get_value(name, \"Champion_Rank\"))\n",
    "        dates.append(df.get_value(name, \"Date_Scraped\"))"
   ]
  },
  {
   "cell_type": "code",
   "execution_count": 28,
   "metadata": {
    "collapsed": false
   },
   "outputs": [
    {
     "data": {
      "text/plain": [
       "['2017-03-30',\n",
       " '2017-03-31',\n",
       " '2017-04-02',\n",
       " '2017-04-04',\n",
       " '2017-04-05',\n",
       " '2017-04-06',\n",
       " '2017-04-07',\n",
       " '2017-04-08',\n",
       " '2017-04-09',\n",
       " '2017-04-10',\n",
       " '2017-04-11',\n",
       " '2017-04-12',\n",
       " '2017-04-13',\n",
       " '2017-04-14',\n",
       " '2017-04-16',\n",
       " '2017-04-17',\n",
       " '2017-04-18',\n",
       " '2017-04-19',\n",
       " '2017-04-20',\n",
       " '2017-04-21']"
      ]
     },
     "execution_count": 28,
     "metadata": {},
     "output_type": "execute_result"
    },
    {
     "data": {
      "image/png": "[encoded data removed]",
      "text/plain": [
       "<matplotlib.figure.Figure at 0x116e3aa90>"
      ]
     },
     "metadata": {},
     "output_type": "display_data"
    }
   ],
   "source": [
    "objects = (dates)\n",
    "y_pos = np.arange(len(objects))\n",
    "plt.xticks(y_pos, objects)\n",
    "plt.ylabel('Counts')\n",
    "plt.title('Dates for: '+ name)\n",
    "\n",
    "plt.bar(y_pos, values, align='center',alpha=0.5)\n",
    "dates"
   ]
  },
  {
   "cell_type": "code",
   "execution_count": null,
   "metadata": {
    "collapsed": false
   },
   "outputs": [],
   "source": []
  }
 ],
 "metadata": {
  "anaconda-cloud": {},
  "kernelspec": {
   "display_name": "Python [conda root]",
   "language": "python",
   "name": "conda-root-py"
  },
  "language_info": {
   "codemirror_mode": {
    "name": "ipython",
    "version": 3
   },
   "file_extension": ".py",
   "mimetype": "text/x-python",
   "name": "python",
   "nbconvert_exporter": "python",
   "pygments_lexer": "ipython3",
   "version": "3.5.2"
  }
 },
 "nbformat": 4,
 "nbformat_minor": 1
}
