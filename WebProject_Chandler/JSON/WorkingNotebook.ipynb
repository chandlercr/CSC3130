{
 "cells": [
  {
   "cell_type": "code",
   "execution_count": 2,
   "metadata": {
    "collapsed": false
   },
   "outputs": [],
   "source": [
    "# This is the notebook that I will be working on for the project. This may be subject to change.\n",
    "import pandas as pd\n",
    "\n",
    "file1 = '/Users/ChandlerCapps/Desktop/CSC3130/WebProject_Chandler/JSON/OPGG/Daily_All/2017-03-30_All.json'\n",
    "file2 = '/Users/ChandlerCapps/Desktop/CSC3130/WebProject_Chandler/JSON/OPGG/Daily_All/2017-03-31_All.json'\n",
    "\n",
    "data1 = pd.read_json(file1)\n",
    "data2 = pd.read_json(file2)"
   ]
  },
  {
   "cell_type": "code",
   "execution_count": 6,
   "metadata": {
    "collapsed": true
   },
   "outputs": [],
   "source": [
    "# 1) I can use this data to look at common stats between characters and how they fit in the \"meta\" (current gameplay)\n",
    "# 2) I can look at all of the dates and look at the most common top 5 champions that are the best\n",
    "# 3) I can also take the rank that they are in and find the true top 5 or 10 instead of just the amount of times they show up\n",
    "# 4) With the ban and pick rates I can see who is having the most success in their games\n",
    "# 5) With ban and pick rates I can see who is the most worthy ban/pick due to their win% and other stats"
   ]
  },
  {
   "cell_type": "code",
   "execution_count": 14,
   "metadata": {
    "collapsed": false
   },
   "outputs": [],
   "source": [
    "# Sets up 'masterData' to be the count table\n",
    "# Re-running this will also reset the table\n",
    "# \"masterData\": counts the number of times champions show up in the top 10 list from each day\n",
    "masterData = data1.sort_values(\"Champion_Name\")\n",
    "masterData.drop(masterData.columns[[1,2,3,4]], axis=1, inplace = True)\n",
    "masterData.set_index(\"Champion_Name\", True, False, True)\n",
    "masterData.insert(0, \"Count\", 0)"
   ]
  },
  {
   "cell_type": "code",
   "execution_count": 15,
   "metadata": {
    "collapsed": false
   },
   "outputs": [],
   "source": [
    "# \"Function\" for pulling in new files and getting the count of how many times a Champion shows up for every day \n",
    "# in the \"Daily\" file section\n",
    "for m in range(1,13):\n",
    "    for d in range(1,32):\n",
    "        # if statements to keep the \"0\" so the string is correct\n",
    "        if m >= 10:\n",
    "            month = str(m)\n",
    "        else:\n",
    "            month = '0'+str(m)\n",
    "        if d >= 10:\n",
    "            day = str(d)\n",
    "        else:\n",
    "            day = '0'+str(d)\n",
    "        thisFile = '/Users/ChandlerCapps/Desktop/CSC3130/WebProject_Chandler/JSON/OPGG/Daily_All/2017-'+month+'-'+day+'_All.json'\n",
    "        try:\n",
    "            df = pd.read_json(thisFile)\n",
    "        except ValueError:\n",
    "            continue\n",
    "        for x in range(0,9):\n",
    "            champName = df.get_value(x,'Champion_Name')\n",
    "            masterData.set_value(champName,\"Count\", masterData.get_value(champName,\"Count\")+1)"
   ]
  },
  {
   "cell_type": "code",
   "execution_count": 18,
   "metadata": {
    "collapsed": false
   },
   "outputs": [
    {
     "data": {
      "text/html": [
       "<div>\n",
       "<table border=\"1\" class=\"dataframe\">\n",
       "  <thead>\n",
       "    <tr style=\"text-align: right;\">\n",
       "      <th></th>\n",
       "      <th>Count</th>\n",
       "    </tr>\n",
       "    <tr>\n",
       "      <th>Champion_Name</th>\n",
       "      <th></th>\n",
       "    </tr>\n",
       "  </thead>\n",
       "  <tbody>\n",
       "    <tr>\n",
       "      <th>Ahri</th>\n",
       "      <td>12</td>\n",
       "    </tr>\n",
       "    <tr>\n",
       "      <th>Ivern</th>\n",
       "      <td>12</td>\n",
       "    </tr>\n",
       "    <tr>\n",
       "      <th>Anivia</th>\n",
       "      <td>10</td>\n",
       "    </tr>\n",
       "    <tr>\n",
       "      <th>Swain</th>\n",
       "      <td>10</td>\n",
       "    </tr>\n",
       "    <tr>\n",
       "      <th>Kog'Maw</th>\n",
       "      <td>8</td>\n",
       "    </tr>\n",
       "    <tr>\n",
       "      <th>Sona</th>\n",
       "      <td>7</td>\n",
       "    </tr>\n",
       "    <tr>\n",
       "      <th>Amumu</th>\n",
       "      <td>7</td>\n",
       "    </tr>\n",
       "    <tr>\n",
       "      <th>Sion</th>\n",
       "      <td>5</td>\n",
       "    </tr>\n",
       "    <tr>\n",
       "      <th>Shaco</th>\n",
       "      <td>5</td>\n",
       "    </tr>\n",
       "    <tr>\n",
       "      <th>Master Yi</th>\n",
       "      <td>4</td>\n",
       "    </tr>\n",
       "  </tbody>\n",
       "</table>\n",
       "</div>"
      ],
      "text/plain": [
       "               Count\n",
       "Champion_Name       \n",
       "Ahri              12\n",
       "Ivern             12\n",
       "Anivia            10\n",
       "Swain             10\n",
       "Kog'Maw            8\n",
       "Sona               7\n",
       "Amumu              7\n",
       "Sion               5\n",
       "Shaco              5\n",
       "Master Yi          4"
      ]
     },
     "execution_count": 18,
     "metadata": {},
     "output_type": "execute_result"
    }
   ],
   "source": [
    "masterData.sort_values('Count',0,False).head(10)"
   ]
  },
  {
   "cell_type": "code",
   "execution_count": 20,
   "metadata": {
    "collapsed": true
   },
   "outputs": [],
   "source": [
    "# Sets up \"rankData\" much like masterData\n",
    "# \"rankData\": uses the rank of the data to show the true meaning of rank. Not just the # of times\n",
    "rankData = data1.sort_values(\"Champion_Name\")\n",
    "rankData.drop(rankData.columns[[1,2,3,4]], axis=1, inplace = True)\n",
    "rankData.set_index(\"Champion_Name\", True, False, True)\n",
    "rankData.insert(0, \"Count\", 0)"
   ]
  },
  {
   "cell_type": "code",
   "execution_count": null,
   "metadata": {
    "collapsed": true
   },
   "outputs": [],
   "source": [
    "# \"Function\" for pulling in new files and getting the count of how many times a Champion shows up for every day \n",
    "# in the \"Daily\" file section\n",
    "\n",
    "# Work on this\n",
    "\n",
    "for m in range(1,13):\n",
    "    for d in range(1,32):\n",
    "        # if statements to keep the \"0\" so the string is correct\n",
    "        if m >= 10:\n",
    "            month = str(m)\n",
    "        else:\n",
    "            month = '0'+str(m)\n",
    "        if d >= 10:\n",
    "            day = str(d)\n",
    "        else:\n",
    "            day = '0'+str(d)\n",
    "        rankFile = '/Users/ChandlerCapps/Desktop/CSC3130/WebProject_Chandler/JSON/OPGG/Daily_All/2017-'+month+'-'+day+'_All.json'\n",
    "        try:\n",
    "            df = pd.read_json(rankFile)\n",
    "        except ValueError:\n",
    "            continue\n",
    "        for x in range(0,9):\n",
    "            champName = df.get_value(x,'Champion_Name')\n",
    "            rankData.set_value(champName,\"Count\", rankData.get_value(champName,\"Count\")+1)"
   ]
  }
 ],
 "metadata": {
  "anaconda-cloud": {},
  "kernelspec": {
   "display_name": "Python [conda root]",
   "language": "python",
   "name": "conda-root-py"
  },
  "language_info": {
   "codemirror_mode": {
    "name": "ipython",
    "version": 3
   },
   "file_extension": ".py",
   "mimetype": "text/x-python",
   "name": "python",
   "nbconvert_exporter": "python",
   "pygments_lexer": "ipython3",
   "version": "3.5.2"
  }
 },
 "nbformat": 4,
 "nbformat_minor": 1
}
